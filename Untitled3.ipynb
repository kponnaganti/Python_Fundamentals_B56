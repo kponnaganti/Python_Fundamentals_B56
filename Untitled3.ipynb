{
 "cells": [
  {
   "cell_type": "code",
   "execution_count": 2,
   "id": "de66829e",
   "metadata": {},
   "outputs": [],
   "source": [
    "#Invalid variable names"
   ]
  },
  {
   "cell_type": "code",
   "execution_count": 3,
   "id": "ccc86efc",
   "metadata": {},
   "outputs": [
    {
     "ename": "SyntaxError",
     "evalue": "invalid syntax (<ipython-input-3-945609624503>, line 1)",
     "output_type": "error",
     "traceback": [
      "\u001b[0;36m  File \u001b[0;32m\"<ipython-input-3-945609624503>\"\u001b[0;36m, line \u001b[0;32m1\u001b[0m\n\u001b[0;31m    first name = 'Kondala'\u001b[0m\n\u001b[0m          ^\u001b[0m\n\u001b[0;31mSyntaxError\u001b[0m\u001b[0;31m:\u001b[0m invalid syntax\n"
     ]
    }
   ],
   "source": [
    "#Variable name with spaces\n",
    "first name = 'Kondala'"
   ]
  },
  {
   "cell_type": "code",
   "execution_count": 4,
   "id": "1926f03a",
   "metadata": {},
   "outputs": [
    {
     "ename": "SyntaxError",
     "evalue": "invalid syntax (<ipython-input-4-385bdb344f55>, line 1)",
     "output_type": "error",
     "traceback": [
      "\u001b[0;36m  File \u001b[0;32m\"<ipython-input-4-385bdb344f55>\"\u001b[0;36m, line \u001b[0;32m1\u001b[0m\n\u001b[0;31m    1day = 23\u001b[0m\n\u001b[0m     ^\u001b[0m\n\u001b[0;31mSyntaxError\u001b[0m\u001b[0;31m:\u001b[0m invalid syntax\n"
     ]
    }
   ],
   "source": [
    "#Variable name start with number\n",
    "1day = 23"
   ]
  },
  {
   "cell_type": "code",
   "execution_count": 5,
   "id": "7e6f3204",
   "metadata": {},
   "outputs": [
    {
     "ename": "SyntaxError",
     "evalue": "invalid syntax (<ipython-input-5-82c975682370>, line 1)",
     "output_type": "error",
     "traceback": [
      "\u001b[0;36m  File \u001b[0;32m\"<ipython-input-5-82c975682370>\"\u001b[0;36m, line \u001b[0;32m1\u001b[0m\n\u001b[0;31m    Test$ = 4.67\u001b[0m\n\u001b[0m        ^\u001b[0m\n\u001b[0;31mSyntaxError\u001b[0m\u001b[0;31m:\u001b[0m invalid syntax\n"
     ]
    }
   ],
   "source": [
    "#Variable name with special char\n",
    "Test$ = 4.67"
   ]
  },
  {
   "cell_type": "code",
   "execution_count": null,
   "id": "53d5fa5a",
   "metadata": {},
   "outputs": [],
   "source": [
    "# valid variable names are as follows"
   ]
  },
  {
   "cell_type": "code",
   "execution_count": 13,
   "id": "117aa3bb",
   "metadata": {},
   "outputs": [
    {
     "name": "stdout",
     "output_type": "stream",
     "text": [
      "John\n",
      "Mike\n",
      "Ravi\n"
     ]
    }
   ],
   "source": [
    "firstName = 'John'\n",
    "first_name = \"Mike\"\n",
    "firstName123 = \"Ravi\"\n",
    "\n",
    "print (firstName)\n",
    "print (first_name)\n",
    "print (firstName123)"
   ]
  },
  {
   "cell_type": "code",
   "execution_count": null,
   "id": "7664ccf9",
   "metadata": {},
   "outputs": [],
   "source": [
    "#Data Types\n",
    "1. string\n",
    "2. number\n",
    "3. list\n",
    "4. tupple\n",
    "5. Dict\n"
   ]
  },
  {
   "cell_type": "code",
   "execution_count": 14,
   "id": "52cb56bf",
   "metadata": {},
   "outputs": [
    {
     "name": "stdout",
     "output_type": "stream",
     "text": [
      "hello\n"
     ]
    }
   ],
   "source": [
    "#Declaring string with signle quote\n",
    "name1 = 'hello'\n",
    "print (name1)"
   ]
  },
  {
   "cell_type": "code",
   "execution_count": 15,
   "id": "249d292c",
   "metadata": {},
   "outputs": [
    {
     "name": "stdout",
     "output_type": "stream",
     "text": [
      "hello\n"
     ]
    }
   ],
   "source": [
    "#Declaring string with double quotes\n",
    "name2 = \"hello\"\n",
    "print (name2)"
   ]
  },
  {
   "cell_type": "code",
   "execution_count": 16,
   "id": "2481ef2b",
   "metadata": {},
   "outputs": [
    {
     "name": "stdout",
     "output_type": "stream",
     "text": [
      "Hello\n"
     ]
    }
   ],
   "source": [
    "#Declaring string with tripple quotes\n",
    "name3 = \"\"\"Hello\"\"\"\n",
    "print (name3)"
   ]
  },
  {
   "cell_type": "code",
   "execution_count": null,
   "id": "901b84bf",
   "metadata": {},
   "outputs": [],
   "source": []
  }
 ],
 "metadata": {
  "kernelspec": {
   "display_name": "Python 3",
   "language": "python",
   "name": "python3"
  },
  "language_info": {
   "codemirror_mode": {
    "name": "ipython",
    "version": 3
   },
   "file_extension": ".py",
   "mimetype": "text/x-python",
   "name": "python",
   "nbconvert_exporter": "python",
   "pygments_lexer": "ipython3",
   "version": "3.8.8"
  }
 },
 "nbformat": 4,
 "nbformat_minor": 5
}
